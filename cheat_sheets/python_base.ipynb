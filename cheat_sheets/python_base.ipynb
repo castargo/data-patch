{
 "cells": [
  {
   "cell_type": "markdown",
   "metadata": {},
   "source": [
    "# Python cheat sheets\n",
    "\n",
    "[Изучаем Python - Марк Лутц](https://docs.google.com/document/d/1EKhRqS1N47Ti61gp48spUvGehVx5_jJWHhvyqfD9xkY/edit?usp=sharing)\n",
    "\n",
    "## Общие сведения:\n",
    "* Python - высокоуровневый язык программирования общего назначения, скриптовый язык с динамической типизацией. \n",
    "* Автор: Гвидо ван Россум. \n",
    "* Низкая производительность, но высокая продуктивность. \n",
    "* The zen of Python - import this. \n",
    "* Python PEP8 - Style guide for Python."
   ]
  },
  {
   "cell_type": "markdown",
   "metadata": {},
   "source": [
    "## Данные в Python\n",
    "* Данные в Python представлены в виде объектов (встроенных или созданных). \n",
    "* По сути, объекты - это области памяти со значениями и ассоциированные с ними наборами операций. \n",
    "* Встроенная типизация = у каждого объекта есть свой тип, но нет необходимости указывать этот тип явно. \n",
    "* Типы данных определяются автоматически во время исполнения программы.\n",
    "\n",
    "Категории типов (и операций) в Python:\n",
    "* Числа\n",
    "* Последовательности (строки, списки, кортежи)\n",
    "* Отображения (словари)\n",
    "* Множества\n",
    "\n",
    "Типы данных:\n",
    "* Неизменяемые: \n",
    "  * числа\n",
    "  * строки\n",
    "  * кортежи\n",
    "  * фиксированные множества\n",
    "* Изменяемые: \n",
    "  * списки\n",
    "  * словари\n",
    "  * множества\n",
    "\n",
    "Хэшируемые объекты:\n",
    "* Объекты, которые не изменяются в течении своей жизни.\n",
    "* __hash__\n",
    "* (1, 2, 3) - неизменяемый, хэшируемый\n",
    "* (1, 2, [3]) - неизменяемый, нехэшируемый \n",
    "* type(x)\n",
    "\n",
    "Соглашение по именованию:\n",
    "* Имена, начинающиеся с одного символа подчеркивания _X не импортируются инструкцией from module import *\n",
    "* Имена, имеющие два символа подчеркивания в начале и в конце \\_\\_X__, являются системными именами.\n",
    "* Имена, начинающиеся с двух символов подчеркивания \\__X являются локальными (“искаженными”) для объемлющего класса.\n",
    "* Имя, состоящее из _ хранит результат последнего выражения при работе в интерактивной оболочке."
   ]
  },
  {
   "cell_type": "markdown",
   "metadata": {},
   "source": [
    "### Логические значения - Boolean\n",
    "* True = 1, False = 0 - числа\n",
    "* Числа отличные от 0 => True\n",
    "* Другие непустые объекты => True\n",
    "* Пустые => False\n",
    "* None => False"
   ]
  },
  {
   "cell_type": "markdown",
   "metadata": {},
   "source": [
    "### Строки\n",
    "\n",
    "```S[откуда : докуда : шаг]```\n",
    "\n",
    "Существует несколько вариантов форматирования строк:\n",
    "* с оператором % — более старый вариант: ```\"interface %s\" % 'abc'``` ==> ```'interface abc'```\n",
    "* метод format() — относительно новый вариант: ```\"interface FastEthernet0/{}\".format('1')``` ==> ```'interface FastEthernet0/1'```\n",
    "* f-строки или интерполяция строк — новый вариант, который появился в Python 3.6. \n",
    "  F-строки позволяют не только подставлять какие-то значения в шаблон, но и позволяют выполнять вызовы функций, методов и т.п."
   ]
  },
  {
   "cell_type": "code",
   "execution_count": 1,
   "metadata": {},
   "outputs": [
    {
     "data": {
      "text/plain": [
       "'olleh'"
      ]
     },
     "execution_count": 1,
     "metadata": {},
     "output_type": "execute_result"
    }
   ],
   "source": [
    "# реверс строки S[::-1]\n",
    "'hello'[::-1]"
   ]
  },
  {
   "cell_type": "markdown",
   "metadata": {},
   "source": [
    "### Списки\n",
    "Абстракции списков:\n",
    "* [ i for i in arr ] - List\n",
    "* ( i for i in arr) - Generator"
   ]
  },
  {
   "cell_type": "code",
   "execution_count": 2,
   "metadata": {},
   "outputs": [
    {
     "data": {
      "text/plain": [
       "('A', 'C')"
      ]
     },
     "execution_count": 2,
     "metadata": {},
     "output_type": "execute_result"
    }
   ],
   "source": [
    "(a, b, c) = 'ABC'\n",
    "a, c"
   ]
  },
  {
   "cell_type": "code",
   "execution_count": 3,
   "metadata": {},
   "outputs": [
    {
     "name": "stdout",
     "output_type": "stream",
     "text": [
      "[1, 2, 3]\n",
      "4\n"
     ]
    }
   ],
   "source": [
    "*a, b = [1, 2, 3, 4]\n",
    "print(a)\n",
    "print(b)"
   ]
  },
  {
   "cell_type": "markdown",
   "metadata": {},
   "source": [
    "### Словари"
   ]
  },
  {
   "cell_type": "code",
   "execution_count": 4,
   "metadata": {},
   "outputs": [
    {
     "data": {
      "text/plain": [
       "dict_items([('one', 1), ('two', 2), ('three', 3), ('four', 4)])"
      ]
     },
     "execution_count": 4,
     "metadata": {},
     "output_type": "execute_result"
    }
   ],
   "source": [
    "x = {'one': 1, 'two': 2, 'three': 3, 'four': 4}\n",
    "x.items()"
   ]
  },
  {
   "cell_type": "code",
   "execution_count": 5,
   "metadata": {},
   "outputs": [
    {
     "data": {
      "text/plain": [
       "{0: True, 1: True, 2: True, 3: True, 4: True}"
      ]
     },
     "execution_count": 5,
     "metadata": {},
     "output_type": "execute_result"
    }
   ],
   "source": [
    "dict.fromkeys(range(5), True)"
   ]
  },
  {
   "cell_type": "code",
   "execution_count": 6,
   "metadata": {},
   "outputs": [
    {
     "data": {
      "text/plain": [
       "{'a': 1, 'b': 2, 'c': 3}"
      ]
     },
     "execution_count": 6,
     "metadata": {},
     "output_type": "execute_result"
    }
   ],
   "source": [
    "keys = ['a', 'b', 'c']\n",
    "values = [1, 2, 3]\n",
    "dict(zip(keys, values))"
   ]
  },
  {
   "cell_type": "code",
   "execution_count": 3,
   "metadata": {},
   "outputs": [
    {
     "data": {
      "text/plain": [
       "{'a': 1, 'b': 3, 'c': 4}"
      ]
     },
     "execution_count": 3,
     "metadata": {},
     "output_type": "execute_result"
    }
   ],
   "source": [
    "x = {'a': 1, 'b': 2}\n",
    "y = {'b': 3, 'c': 4}\n",
    "\n",
    "dict(x, **y)"
   ]
  },
  {
   "cell_type": "code",
   "execution_count": 4,
   "metadata": {},
   "outputs": [],
   "source": [
    "def myfunc(x, y, z):\n",
    "    print(x, y, z)"
   ]
  },
  {
   "cell_type": "code",
   "execution_count": 5,
   "metadata": {},
   "outputs": [
    {
     "name": "stdout",
     "output_type": "stream",
     "text": [
      "1 0 1\n"
     ]
    }
   ],
   "source": [
    "tuple_vec = (1, 0, 1)\n",
    "myfunc(*tuple_vec)"
   ]
  },
  {
   "cell_type": "code",
   "execution_count": 8,
   "metadata": {},
   "outputs": [
    {
     "name": "stdout",
     "output_type": "stream",
     "text": [
      "1 2 3\n"
     ]
    }
   ],
   "source": [
    "dict_vec = {'x': 1, 'y': 2, 'z': 3}\n",
    "myfunc(**dict_vec)"
   ]
  },
  {
   "cell_type": "markdown",
   "metadata": {},
   "source": [
    "## Файлы\n",
    "Файл - именованная область постоянной памяти.\n",
    "\n",
    "Прежде, чем работать с файлом, его надо открыть: ```f = open('text.txt', 'r')```.          \n",
    "У функции open много параметров, пока важны 3 аргумента: \n",
    "* Путь до файла (может быть относительным или абсолютным)\n",
    "* Режим открытия файла: могут быть объединены, то есть, к примеру, 'rb' - чтение в двоичном режиме. По умолчанию режим равен 'rt'\n",
    "* Кодирование файла"
   ]
  },
  {
   "cell_type": "markdown",
   "metadata": {},
   "source": [
    "## Операторы\n",
    "\n",
    "### Интроспекция в Python\n",
    "* Для любого объекта можно получить всю информацию о его внутренней структуре и среде исполнения + модуль inspect\n",
    "* docstring - строки документации\n",
    "* aaa.\\_\\_doc__\n",
    "* PyDoc - help( )\n",
    "* Список всех атрибутов объекта - dir( )\n",
    "\n",
    "### Функция print\n",
    "```3.X: print([object, ...][sep=’’][, end=’\\n’][, file = sys.stdout])```\n",
    "* sep - строка, которая должна вставляться между объектами при выводе\n",
    "* end - строка, вставляемая в конец текста\n",
    "* file - файл / стандартный поток / другой объект, куда будет выводиться текст.\n",
    "\n",
    "### Тернарный оператор"
   ]
  },
  {
   "cell_type": "code",
   "execution_count": 7,
   "metadata": {},
   "outputs": [
    {
     "data": {
      "text/plain": [
       "'толстый'"
      ]
     },
     "execution_count": 7,
     "metadata": {},
     "output_type": "execute_result"
    }
   ],
   "source": [
    "fat = True\n",
    "('худой', 'толстый')[fat]"
   ]
  },
  {
   "cell_type": "markdown",
   "metadata": {},
   "source": [
    "### Циклы\n",
    "while:        \n",
    "```\n",
    "while <test1>:\n",
    "    <statement1>\n",
    "    if <test2>: break\n",
    "    if <test3>: continue\n",
    "else: <statement2>\n",
    "```\n",
    "\n",
    "for:        \n",
    "```\n",
    "for <target> in <object>:\n",
    "    <statements1>\n",
    "    if <test1>: break\n",
    "    if <test2>: continue\n",
    "else: <statements2>\n",
    "```"
   ]
  },
  {
   "cell_type": "markdown",
   "metadata": {},
   "source": [
    "### Range\n",
    "\n",
    "range - встроенная функция, которая возвращает непрерывную последовательность целых чисел, которые можно использовать в качестве индексов внутри цикла for.\n",
    "Range возвращает итератор, который генерирует элементы по требованию."
   ]
  },
  {
   "cell_type": "code",
   "execution_count": 8,
   "metadata": {},
   "outputs": [
    {
     "name": "stdout",
     "output_type": "stream",
     "text": [
      "range(0, 5)\n",
      "range(2, 5)\n",
      "range(0, 10, 2)\n"
     ]
    }
   ],
   "source": [
    "print(range(5))\n",
    "print(range(2, 5))\n",
    "print(range(0, 10, 2))"
   ]
  },
  {
   "cell_type": "markdown",
   "metadata": {},
   "source": [
    "## Функции\n",
    "* Функция - это объект. \n",
    "* Функции не имеют типа. \n",
    "* Максимизирование многократного использования кода и минимизирование его избыточности. \n",
    "* Процедурная декомпозиция.\n",
    "\n",
    "def - инструкция, исполняемый программный код. Создает объект и присваивает ему имя. \n",
    "Аргументы передаются в функцию посредством присваивания (в виде ссылок на объекты).\n",
    "\n",
    "```\n",
    "def <name> (arg1, arg2, …, argN):\n",
    "    <statements>\n",
    "    return <value>  # None по умолчанию\n",
    "```\n",
    "\n",
    "### \\*args и **kwargs\n",
    "В Python можно передать переменное количество аргументов двумя способами:\n",
    "* *args для неименованных аргументов  - list, set и т д\n",
    "    ```\n",
    "    def adder(*nums):\n",
    "     sum = 0\n",
    "     for n in nums:\n",
    "     sum += n\n",
    "    \n",
    "     print(\"Sum: \", sum)\n",
    "    \n",
    "    >>> adder(3, 5) => Sum: 8\n",
    "    >>> adder(4, 5, 6, 7) => Sum: 22\n",
    "    >>> adder(1, 2, 3, 5, 6) => Sum: 17\n",
    "    ```\n",
    "* **kwargs для именованных аргументов - dict\n",
    "    ```\n",
    "    def intro(**data):\n",
    "     print(\"\\nData type of argument: \",type(data))\n",
    "    \n",
    "     for key, value in data.items():\n",
    "     print(\"{} is {}\".format(key, value))\n",
    "    \n",
    "    >>> intro(Firstname=\"Sita\", Lastname=\"Sharma\", Age=22, Phone=123)\n",
    "    >>> intro(Firstname=\"John\", Lastname=\"W\", Email=\"jw@n.com\", Country=\"W\", Age=25, Phone=9)\n",
    "    ```\n",
    "  \n",
    "Если вы хотите использовать и \\*args, и \\*\\*kwargs, то это делается так:                 \n",
    "func(fargs, *args, **kwargs), порядок следования аргументов важен; fargs - формальные параметры."
   ]
  },
  {
   "cell_type": "markdown",
   "metadata": {},
   "source": [
    "### Правило LEGB (Local, Enclosing, Global и Built-in Scope)\n",
    "* L - локальная область видимости: область содержит имена, определенные внутри функции или lambda-выражения\n",
    "* E - нелокальная область видимости: область, которая существует только для вложенных функций; объемлющая область является областью действия внешней или объемлющей функции\n",
    "* G - глобальная область видимости: область, содержащая все имена, определенные на уровне программы или модуля\n",
    "* B - встроенная область: специальная область, которая создается или загружается при запуске скрипта или открытии интерактивного сеанса."
   ]
  },
  {
   "cell_type": "markdown",
   "metadata": {},
   "source": [
    "### Lambda (анонимная функция)\n",
    "Выражение lambda создает объект функции в виде выражения и возвращает его в виде результата, не связывая его с именем.\n",
    "\n",
    "```lambda arg1, arg2, ..., argN: <выражения>```"
   ]
  },
  {
   "cell_type": "code",
   "execution_count": 1,
   "metadata": {},
   "outputs": [
    {
     "data": {
      "text/plain": [
       "8"
      ]
     },
     "execution_count": 1,
     "metadata": {},
     "output_type": "execute_result"
    }
   ],
   "source": [
    "add = lambda x, y: x + y\n",
    "add(5, 3)"
   ]
  },
  {
   "cell_type": "code",
   "execution_count": 2,
   "metadata": {},
   "outputs": [
    {
     "data": {
      "text/plain": [
       "8"
      ]
     },
     "execution_count": 2,
     "metadata": {},
     "output_type": "execute_result"
    }
   ],
   "source": [
    "(lambda x, y: x + y)(5, 3)"
   ]
  },
  {
   "cell_type": "markdown",
   "metadata": {},
   "source": [
    "### Итерации и генераторы\n",
    "Итераторы:\n",
    "* Итерируемые объекты - (встроенные: списки, кортежи, строки) любые объекты, которые имеют метод \\_\\_iter__ или \\_\\_getitem__, \n",
    "   который возвращает итераторы или могут принимать индексы.\n",
    "* Итератор - объект, который имеет метод next или \\_\\_next__. В конце возбуждается исключение stopIteration. \n",
    "* next(X) ~ X.\\_\\_next__( )\n",
    "* Итерация - процесс получения элементов из какого-либо источника (например, списка).\n",
    "\n",
    "Генераторы:\n",
    "* Генератор - это итератор, который можно итерировать только один раз, его элементы не хранятся, а “генерируются”.\n",
    "* Генератор хранит в памяти не все элементы,  а только внутреннее состояние для вычисления очередного элемента.\n",
    "* Генераторное выражение - это выражение, возвращающее итератор генератора.\n",
    "\n",
    "В языке Python имеются различные встроенные функции, позволяющие обрабатывать итерируемые объекты:\n",
    "* zip \n",
    "  * Инструкция zip - встроенная функция; возвращает список кортежей, составленных из элементов входных списков с одинаковыми индексами, \n",
    "    который может использоваться для одновременного обхода нескольких последовательностей в цикле for.\n",
    "  * По итераторам zip и map возможен всего один проход! zip, map - нет множественной поддержки итераторов, range - множественная поддержка итераторов."
   ]
  },
  {
   "cell_type": "code",
   "execution_count": 9,
   "metadata": {},
   "outputs": [
    {
     "data": {
      "text/plain": [
       "[(1, 5), (2, 6), (3, 7), (4, 8)]"
      ]
     },
     "execution_count": 9,
     "metadata": {},
     "output_type": "execute_result"
    }
   ],
   "source": [
    "L1 = [1, 2, 3, 4]\n",
    "L2 = [5, 6, 7, 8]\n",
    "list(zip(L1, L2))"
   ]
  },
  {
   "cell_type": "code",
   "execution_count": 10,
   "metadata": {},
   "outputs": [
    {
     "data": {
      "text/plain": [
       "[('a', 'x'), ('b', 'y'), ('c', 'z')]"
      ]
     },
     "execution_count": 10,
     "metadata": {},
     "output_type": "execute_result"
    }
   ],
   "source": [
    "L1 = 'abc'\n",
    "L2 = 'xyz123'\n",
    "list(zip(L1, L2))"
   ]
  },
  {
   "cell_type": "code",
   "execution_count": 11,
   "metadata": {},
   "outputs": [
    {
     "data": {
      "text/plain": [
       "[(1, 2, 3), (4, 5, 6), (7, 8, 9)]"
      ]
     },
     "execution_count": 11,
     "metadata": {},
     "output_type": "execute_result"
    }
   ],
   "source": [
    "b = [1, 2, 3, 4, 5, 6, 7, 8, 9, 10]\n",
    "list(zip(*[b.__iter__()] * 3))"
   ]
  },
  {
   "cell_type": "markdown",
   "metadata": {},
   "source": [
    "* map \n",
    "  * Инструкция map применяет указанную функцию к каждому элементу указанной последовательности/последовательностей. \n",
    "  * map(func, iterable, ...) -> 3.0 iterator | list"
   ]
  },
  {
   "cell_type": "code",
   "execution_count": 12,
   "metadata": {},
   "outputs": [
    {
     "data": {
      "text/plain": [
       "['1|3', '2|4']"
      ]
     },
     "execution_count": 12,
     "metadata": {},
     "output_type": "execute_result"
    }
   ],
   "source": [
    "def func(el1, el2): \n",
    "    return '%s|%s' % (el1, el2)\n",
    "\n",
    "list(map(func, [1, 2], [3, 4, 5]))"
   ]
  },
  {
   "cell_type": "code",
   "execution_count": 13,
   "metadata": {},
   "outputs": [
    {
     "data": {
      "text/plain": [
       "{1: 3, 2: 4}"
      ]
     },
     "execution_count": 13,
     "metadata": {},
     "output_type": "execute_result"
    }
   ],
   "source": [
    "dict(map(lambda *args: args, [1, 2], [3, 4]))"
   ]
  },
  {
   "cell_type": "markdown",
   "metadata": {},
   "source": [
    "* enumerate: \n",
    "  * Инструкция enumerate - функция, которая возвращает объект-генератор. Она позволяет итерироваться по объекту с параллельным автоматическим счётчиком.\n",
    "  * ```for c, value in enumerate(some_list): print(c, value)```\n",
    "  * ```counter_list = list(enumerate(my_list, 1))```\n",
    "* sorted \n",
    "* filter \n",
    "  * Инструкция filter принимает два параметра и возвращает объект-итератор.\n",
    "  * Аргументы: функция, последовательность (строки, списки и кортежи), итератор или объект, поддерживающий итерацию. \n",
    "  * Функция filter() возвращает итератор, состоящий из тех элементов последовательности, \n",
    "    для которых переданная в качестве первого аргумента функция вернула истину (true) или ее аналог (не ноль, не пустую строку, не None)."
   ]
  },
  {
   "cell_type": "code",
   "execution_count": 14,
   "metadata": {},
   "outputs": [
    {
     "data": {
      "text/plain": [
       "[1, 6, 8]"
      ]
     },
     "execution_count": 14,
     "metadata": {},
     "output_type": "execute_result"
    }
   ],
   "source": [
    "def func(x):\n",
    "    if x > 0:\n",
    "            return 1\n",
    "    else:\n",
    "            return 0\n",
    "\n",
    "list(filter(func, [1, -4, 6, 8, -10]))"
   ]
  },
  {
   "cell_type": "markdown",
   "metadata": {},
   "source": [
    "* reduce\n",
    "  * Применяет указанную функцию к элементам последовательности, сводя её к единственному значению. \n",
    "  * reduce(function, iterable[, initializer])\n",
    "  * Аргументы: аккумулированное ранее значение, следующий элемент последовательности.\n",
    "  * Устарело в Python 3.0, если функция всё же требуется, то ее можно найти в functools.reduce()."
   ]
  },
  {
   "cell_type": "code",
   "execution_count": 15,
   "metadata": {},
   "outputs": [
    {
     "data": {
      "text/plain": [
       "6"
      ]
     },
     "execution_count": 15,
     "metadata": {},
     "output_type": "execute_result"
    }
   ],
   "source": [
    "from functools import reduce\n",
    "\n",
    "def reducer_func(el_prev, el):\n",
    "    # el_prev — предшествующий элемент\n",
    "    # el — текущий элемент\n",
    "    return el_prev + el\n",
    "\n",
    "reduce(reducer_func, [1, 2, 3])"
   ]
  },
  {
   "cell_type": "markdown",
   "metadata": {},
   "source": [
    "* sum \n",
    "* any \n",
    "* all \n",
    "* max \n",
    "* min"
   ]
  },
  {
   "cell_type": "markdown",
   "metadata": {},
   "source": [
    "### Функции-генеаторы yield\n",
    "* Выражение yield передает объект результата выполняющей программе и запоминает, где был произведен возврат.\n",
    "* Функции-генераторы генерируют последовательность значений с течением времени.\n",
    "* Функции-генераторы автоматически поддерживают протокол итераций.\n",
    "* Функция-генератор поставляет значение, а не возвращает его - инструкций yield приостанавливает работу функции и передает значение вызывающей программе, \n",
    "  при этом сохраняя информацию о состоянии, чтобы возобновить работу с того места, где она была окончена.\n",
    "* Функции-генераторы компилируют как генераторы, то есть при вызове такой функции будет поддерживаться метод \\_\\_next__ (от yield до yield).\n",
    "\n",
    "Итераторы файлов:    \n",
    "* f.readline( ) - считывает строку (метод)\n",
    "* f.\\_\\_next__( ) - также метод, считывающий строку\n",
    "\n",
    "Генераторы списков обычно в два раза быстрее циклов."
   ]
  },
  {
   "cell_type": "markdown",
   "metadata": {},
   "source": [
    "## Модули\n",
    "* Инструкции\n",
    "  * import - получает модуль целиком \n",
    "  * from - определяет имена из модуля \n",
    "  * as - изменение имени модуля \n",
    "  * name.method - повторная загрузка модуля без остановки интерпретатора\n",
    "  \n",
    "```import <пакет> as <name>```\n",
    "\n",
    "```from <пакет> import <name1>, <name2>```\n",
    "\n",
    "```from <пакет> import *```\n",
    "\n",
    "```from <пакет> import <name> as <new_name>```\n",
    "  \n",
    "* Импорт выполняется только один раз \n",
    "* Инструкции import и from - это операции присваивания \n",
    "* Инструкция import присваивает объект модуля единственному имени \n",
    "* Инструкция from присваивает одно и более имен объектам с теми же именами в другом модуле \n",
    "* Операция импортирования никогда не изменяет область видимости для кода в импортированном файле\n",
    "\n",
    "### Пакет\n",
    "Пакет в Python - каталог, включающий в себя другие каталоги и модули, но при этом дополнительно содержащий файл \\_\\_init__.py, предназначенный для выполнения действий по инициализации пакета. Пакеты используются для формирования пространства имен, что позволяет работать с модулями через указание уровня вложенности (через точку)."
   ]
  },
  {
   "cell_type": "markdown",
   "metadata": {},
   "source": [
    "## Менеджеры контекста\n",
    "\n",
    "```with <expression> as <target>: suite```\n",
    "\n",
    "```with A() as a, B() as b: suite```"
   ]
  },
  {
   "cell_type": "code",
   "execution_count": null,
   "metadata": {},
   "outputs": [],
   "source": [
    "f = open('file.txt', 'w')\n",
    "f.write('hello')\n",
    "f.close()"
   ]
  },
  {
   "cell_type": "code",
   "execution_count": 12,
   "metadata": {},
   "outputs": [],
   "source": [
    "with open('file.txt', 'w') as f:\n",
    "     f.write('hello')"
   ]
  },
  {
   "cell_type": "markdown",
   "metadata": {},
   "source": [
    "## Декораторы\n",
    "\n",
    "Декоратор - функция, которая принимает на вход функцию, добавляет к принимаемой функции новую функциональность, не изменяя ее.        \n",
    "Сам декоратор - функция-обертка.\n",
    "\n",
    "Декораторы - синтаксический сахар."
   ]
  },
  {
   "cell_type": "code",
   "execution_count": 5,
   "metadata": {},
   "outputs": [],
   "source": [
    "def say_hi():\n",
    "    print('Hi!')"
   ]
  },
  {
   "cell_type": "code",
   "execution_count": 6,
   "metadata": {},
   "outputs": [],
   "source": [
    "def dec(function_to_decorate):\n",
    "    def wrapper():\n",
    "        print('Before!')\n",
    "        print('Оборачиваемая функция: {}'.format(function_to_decorate))\n",
    "        function_to_decorate()\n",
    "        print('After!')\n",
    "    return wrapper"
   ]
  },
  {
   "cell_type": "code",
   "execution_count": 16,
   "metadata": {},
   "outputs": [
    {
     "name": "stdout",
     "output_type": "stream",
     "text": [
      "Before!\n",
      "Оборачиваемая функция: <function say_hi at 0x7fec7c498b80>\n",
      "Hi!\n",
      "After!\n"
     ]
    },
    {
     "data": {
      "text/plain": [
       "<function __main__.dec.<locals>.wrapper()>"
      ]
     },
     "execution_count": 16,
     "metadata": {},
     "output_type": "execute_result"
    }
   ],
   "source": [
    "result = dec(say_hi())\n",
    "result"
   ]
  },
  {
   "cell_type": "code",
   "execution_count": 8,
   "metadata": {},
   "outputs": [
    {
     "name": "stdout",
     "output_type": "stream",
     "text": [
      "Before!\n",
      "Оборачиваемая функция: <function say_hi at 0x7fec7c498b80>\n",
      "Hi!\n",
      "After!\n"
     ]
    }
   ],
   "source": [
    "@dec\n",
    "def say_hi():\n",
    "    print('Hi!')\n",
    "    \n",
    "say_hi()"
   ]
  }
 ],
 "metadata": {
  "kernelspec": {
   "display_name": "Python 3",
   "language": "python",
   "name": "python3"
  },
  "language_info": {
   "codemirror_mode": {
    "name": "ipython",
    "version": 3
   },
   "file_extension": ".py",
   "mimetype": "text/x-python",
   "name": "python",
   "nbconvert_exporter": "python",
   "pygments_lexer": "ipython3",
   "version": "3.8.3"
  }
 },
 "nbformat": 4,
 "nbformat_minor": 4
}
