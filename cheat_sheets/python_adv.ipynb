{
 "cells": [
  {
   "cell_type": "markdown",
   "metadata": {},
   "source": [
    "# Advanced Python topics"
   ]
  },
  {
   "cell_type": "markdown",
   "metadata": {},
   "source": [
    "## Safe python installation\n",
    "\n",
    "* Файл **setup.py**\n",
    "* Пакет [pip-audit](https://pypi.org/project/pip-audit/) или safety\n",
    "* Список пакетов с уязвимостями: [PyPI Malware](https://github.com/rsc-dev/pypi_malware)\n",
    "* Корректная установка зависимостей + использование \"колес\" - wheels:\n",
    "\n",
    "```\n",
    "pip install package --only-binary=:all: --require-hashes\n",
    "```"
   ]
  },
  {
   "cell_type": "markdown",
   "metadata": {},
   "source": [
    "## Project Structure\n",
    "\n",
    "[Structure Your Data Science Projects](https://towardsdatascience.com/structure-your-data-science-projects-6c6c8653c16a)"
   ]
  },
  {
   "cell_type": "markdown",
   "metadata": {},
   "source": [
    "## Поиск уязвимостей в коде\n",
    "\n",
    "* [Python bandit](https://github.com/PyCQA/bandit)"
   ]
  },
  {
   "cell_type": "markdown",
   "metadata": {},
   "source": [
    "## Python Style Guide\n",
    "\n",
    "[Google Python Style Guide](https://google.github.io/styleguide/pyguide.html)"
   ]
  },
  {
   "cell_type": "markdown",
   "metadata": {},
   "source": [
    "## Docstrings\n",
    "\n",
    "* [Python Docstrings](https://www.programiz.com/python-programming/docstrings)\n",
    "* [PEP 257 на русском. (Соглашение о Docstrings)](https://habr.com/ru/post/499358/)"
   ]
  },
  {
   "cell_type": "markdown",
   "metadata": {},
   "source": [
    "## Type Hints\n",
    "\n",
    "* [PEP 484 – Type Hints](https://peps.python.org/pep-0484/)\n",
    "* [Type hints cheat sheet](https://mypy.readthedocs.io/en/stable/cheat_sheet_py3.html)"
   ]
  },
  {
   "cell_type": "code",
   "execution_count": 4,
   "metadata": {},
   "outputs": [],
   "source": [
    "def f(x: str) -> None:\n",
    "    return None"
   ]
  },
  {
   "cell_type": "code",
   "execution_count": 5,
   "metadata": {},
   "outputs": [],
   "source": [
    "def kinetic_energy(m: 'in KG', v: 'in M/s') -> '!!!':\n",
    "    return 0.5 * m * v ** 2"
   ]
  },
  {
   "cell_type": "code",
   "execution_count": 6,
   "metadata": {},
   "outputs": [
    {
     "data": {
      "text/plain": [
       "{'m': 'in KG', 'v': 'in M/s', 'return': '!!!'}"
      ]
     },
     "execution_count": 6,
     "metadata": {},
     "output_type": "execute_result"
    }
   ],
   "source": [
    "kinetic_energy.__annotations__"
   ]
  },
  {
   "cell_type": "markdown",
   "metadata": {},
   "source": [
    "## Profilers\n",
    "\n",
    "[Yappi](https://github.com/sumerc/yappi)"
   ]
  },
  {
   "cell_type": "code",
   "execution_count": 1,
   "metadata": {},
   "outputs": [],
   "source": [
    "import yappi"
   ]
  },
  {
   "cell_type": "code",
   "execution_count": 2,
   "metadata": {},
   "outputs": [],
   "source": [
    "# do something CPU heavy\n",
    "def a():\n",
    "    for _ in range(10000000):\n",
    "        pass"
   ]
  },
  {
   "cell_type": "code",
   "execution_count": 3,
   "metadata": {},
   "outputs": [],
   "source": [
    "# Use set_clock_type(\"wall\") for wall time\n",
    "yappi.set_clock_type(\"cpu\")"
   ]
  },
  {
   "cell_type": "code",
   "execution_count": 4,
   "metadata": {},
   "outputs": [],
   "source": [
    "yappi.start(builtins=False)\n",
    "a()\n",
    "yappi.stop()"
   ]
  },
  {
   "cell_type": "code",
   "execution_count": 8,
   "metadata": {},
   "outputs": [
    {
     "name": "stdout",
     "output_type": "stream",
     "text": [
      "\n",
      "Clock type: CPU\n",
      "Ordered by: totaltime, desc\n",
      "\n",
      "name                                                                    ncall     tsub      ttot      tavg      \n",
      "..s/IPython/core/interactiveshell.py:3302 ZMQInteractiveShell.run_code  1         0.000019  0.221721  0.221721\n",
      "<ipython-input-4-e5b2d0c63696>:2 <module>                               1         0.000004  0.221683  0.221683\n",
      "<ipython-input-2-84055d764842>:2 a                                      1         0.221679  0.221679  0.221679\n",
      "<decorator-gen-23>:1 HistoryManager.writeout_cache                      1         0.000012  0.000814  0.000814\n",
      "../lib/python3.8/site-packages/IPython/core/history.py:52 needs_sqlite  1         0.000012  0.000803  0.000803\n",
      "..e-packages/IPython/core/history.py:772 HistoryManager.writeout_cache  1         0.000041  0.000787  0.000787\n",
      "..ges/IPython/core/history.py:760 HistoryManager._writeout_input_cache  1         0.000291  0.000555  0.000555\n",
      "../lib/python3.8/site-packages/traitlets/traitlets.py:576 List.__set__  2         0.000012  0.000178  0.000089\n",
      "..nda3/lib/python3.8/site-packages/traitlets/traitlets.py:558 List.set  2         0.000015  0.000166  0.000083\n",
      "..ib/python3.8/site-packages/traitlets/traitlets.py:587 List._validate  2         0.000020  0.000095  0.000047\n",
      "../kate/anaconda3/lib/python3.8/codeop.py:135 CachingCompiler.__call__  2         0.000012  0.000068  0.000034\n",
      "..ib/python3.8/site-packages/traitlets/traitlets.py:2323 List.validate  2         0.000012  0.000060  0.000030\n",
      "..te-packages/traitlets/traitlets.py:1133 HistoryManager._notify_trait  1         0.000008  0.000056  0.000056\n",
      "..te-packages/traitlets/traitlets.py:1142 HistoryManager.notify_change  1         0.000031  0.000048  0.000048\n",
      "..ib/python3.8/site-packages/traitlets/traitlets.py:2235 List.validate  2         0.000016  0.000039  0.000020\n",
      "..3.8/site-packages/traitlets/traitlets.py:2316 List.validate_elements  4         0.000019  0.000026  0.000007\n",
      "../python3.8/site-packages/traitlets/traitlets.py:545 Instance.__get__  6         0.000018  0.000026  0.000004\n",
      "/home/kate/anaconda3/lib/python3.8/contextlib.py:238 helper             2         0.000009  0.000021  0.000010\n",
      "..3/lib/python3.8/contextlib.py:108 _GeneratorContextManager.__enter__  2         0.000006  0.000016  0.000008\n",
      "../lib/python3.8/site-packages/traitlets/traitlets.py:545 Bool.__get__  2         0.000012  0.000016  0.000008\n",
      "/home/kate/anaconda3/lib/python3.8/threading.py:530 Event.clear         1         0.000008  0.000014  0.000014\n",
      "..es/IPython/core/history.py:766 HistoryManager._writeout_output_cache  1         0.000008  0.000013  0.000013\n",
      "..hon3.8/site-packages/traitlets/traitlets.py:596 List._cross_validate  2         0.000007  0.000012  0.000006\n",
      "..a3/lib/python3.8/contextlib.py:117 _GeneratorContextManager.__exit__  2         0.000006  0.000012  0.000006\n",
      "..da3/lib/python3.8/contextlib.py:82 _GeneratorContextManager.__init__  2         0.000010  0.000011  0.000006\n",
      "..e-packages/IPython/core/hooks.py:103 CommandChainDispatcher.__call__  2         0.000009  0.000011  0.000005\n",
      "../anaconda3/lib/python3.8/threading.py:258 Condition._acquire_restore  1         0.000007  0.000009  0.000009\n",
      "..me/kate/anaconda3/lib/python3.8/threading.py:261 Condition._is_owned  1         0.000007  0.000008  0.000008\n",
      "..ython3.8/site-packages/traitlets/utils/bunch.py:11 Bunch.__getattr__  2         0.000007  0.000008  0.000004\n",
      "../lib/python3.8/site-packages/traitlets/traitlets.py:526 Instance.get  6         0.000008  0.000008  0.000001\n",
      "..me/kate/anaconda3/lib/python3.8/threading.py:246 Condition.__enter__  2         0.000005  0.000007  0.000003\n",
      "..-packages/IPython/core/compilerop.py:138 CachingCompiler.extra_flags  4         0.000007  0.000007  0.000002\n",
      "/home/kate/anaconda3/lib/python3.8/threading.py:249 Condition.__exit__  2         0.000004  0.000005  0.000003\n",
      "..ate/anaconda3/lib/python3.8/threading.py:255 Condition._release_save  1         0.000004  0.000005  0.000005\n",
      "..ib/python3.8/site-packages/traitlets/traitlets.py:1673 List.validate  2         0.000003  0.000004  0.000002\n",
      "..3.8/site-packages/traitlets/traitlets.py:2246 List.validate_elements  4         0.000004  0.000004  0.000001\n",
      "..ython3.8/site-packages/IPython/core/interactiveshell.py:3240 compare  2         0.000004  0.000004  0.000002\n",
      "..nda3/lib/python3.8/site-packages/traitlets/traitlets.py:526 Bool.get  2         0.000003  0.000003  0.000002\n",
      "..on3.8/site-packages/IPython/utils/ipstruct.py:125 Struct.__getattr__  2         0.000003  0.000003  0.000001\n",
      "..hon/core/interactiveshell.py:1276 ZMQInteractiveShell.user_global_ns  2         0.000002  0.000002  0.000001\n",
      "..ages/IPython/core/hooks.py:168 ZMQInteractiveShell.pre_run_code_hook  2         0.000002  0.000002  0.000001\n",
      "/home/kate/anaconda3/lib/python3.8/threading.py:540 Event.wait          1         0.000000  0.000000  0.000000\n",
      "/home/kate/anaconda3/lib/python3.8/threading.py:270 Condition.wait      1         0.000000  0.000000  0.000000\n",
      "<ipython-input-4-e5b2d0c63696>:3 <module>                               1         0.000000  0.000000  0.000000\n"
     ]
    }
   ],
   "source": [
    "yappi.get_func_stats().print_all(\n",
    "    columns={0: ('name', 70),\n",
    "             1: ('ncall', 8),\n",
    "             2: ('tsub', 8),\n",
    "             3: ('ttot', 8),\n",
    "             4: ('tavg', 8)}\n",
    ")"
   ]
  },
  {
   "cell_type": "code",
   "execution_count": 9,
   "metadata": {},
   "outputs": [
    {
     "name": "stdout",
     "output_type": "stream",
     "text": [
      "\n",
      "name           id     tid              ttot      scnt        \n",
      "_MainThread    0      140212943349568  0.221985  2         \n",
      "..avingThread  1      140212621534976  0.000971  1         \n"
     ]
    }
   ],
   "source": [
    "yappi.get_thread_stats().print_all()"
   ]
  }
 ],
 "metadata": {
  "kernelspec": {
   "display_name": "Python 3",
   "language": "python",
   "name": "python3"
  },
  "language_info": {
   "codemirror_mode": {
    "name": "ipython",
    "version": 3
   },
   "file_extension": ".py",
   "mimetype": "text/x-python",
   "name": "python",
   "nbconvert_exporter": "python",
   "pygments_lexer": "ipython3",
   "version": "3.8.3"
  }
 },
 "nbformat": 4,
 "nbformat_minor": 4
}
