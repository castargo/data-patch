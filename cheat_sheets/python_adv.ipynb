{
 "cells": [
  {
   "cell_type": "markdown",
   "metadata": {},
   "source": [
    "# Advanced Python topics\n",
    "\n",
    "[100 вопросов для подготовки к собесу Python](https://habr.com/ru/articles/782266/#11)"
   ]
  },
  {
   "cell_type": "markdown",
   "metadata": {},
   "source": [
    "## Минимальная конфигурация проекта\n",
    "\n",
    "* Документация\n",
    "    * README.md / INSTALL.md с инструкцией по запуску\n",
    "    * Аннотации у функций и классов\n",
    "* Гибкие настройки\n",
    "    * Yaml-конфиги, env-переменные окружения\n",
    "* Форматирование кода\n",
    "    * PEP-8, кодстайлы\n",
    "    * Линтеры (например, mypy) и форматеры кода (например, black)\n",
    "* Работа в команде\n",
    "    * Воспроизводимость экспериментов (requirements.txt и виртуальные окружения)\n",
    "    * Треккинг задач\n",
    "    * git-flow"
   ]
  },
  {
   "cell_type": "markdown",
   "metadata": {},
   "source": [
    "## Разработка архитектуры приложения\n",
    "* [Refactoring Guru: Design Patterns](https://refactoring.guru/design-patterns)\n",
    "* [Complete Guide to Caching in Python](https://towardsdatascience.com/complete-guide-to-caching-in-python-b4e37a4bcebf)"
   ]
  },
  {
   "cell_type": "markdown",
   "metadata": {},
   "source": [
    "## Проектирование кода\n",
    "\n",
    "### Базовые принципы декомпозиции\n",
    "* Название функции - глагол\n",
    "* Одна функция == одно действие\n",
    "* [Пара слов об именовании переменных и методов](https://habr.com/ru/articles/508238/)\n",
    "\n",
    "### SOLID\n",
    "* **Single Responsibility** (принцип единственной ответственности)\n",
    "  * Один класс == одна задача\n",
    "* **Open-closed** (принцип открытости/закрытости)\n",
    "  * Программные сущности должны быть расширяемыми без изменения своего содержимого\n",
    "* **Liskov substitution** (принцип подстановки)\n",
    "  * Наследующий класс должен дополнять, а не изменять базовый\n",
    "* **Interface segregation** (принцип разделения интерфейсов)\n",
    "  * Интерфейс нужно подразбивать на много малых интерфейсов, чтобы не заставлять клиента пользоваться ненужным\n",
    "* **Dependency inversion** (принцип инверсии зависимостей)\n",
    "  * Высокоуровневые модули не должны зависеть от низкоуровневых\n",
    "  * Абстракции не должны зависеть от подробностей\n",
    "  * Подробности должны зависеть от абстракций\n",
    "\n",
    "### Принципы написания кода\n",
    "* KISS == keep it simple, stupid (бритва Окама)\n",
    "* EAFP == it's easy to ask for forgiveness than permission\n",
    "* LBYL == look before you leap\n",
    "* DRY == don't repeat yourself\n",
    "* YAGNI == you're aren't gonna need it (отказ от избыточности)\n",
    "* Worse is better:\n",
    "  * простота\n",
    "  * правильность\n",
    "  * логичность\n",
    "  * полнота"
   ]
  },
  {
   "cell_type": "markdown",
   "metadata": {},
   "source": [
    "## Safe python installation\n",
    "\n",
    "* Файл **setup.py**\n",
    "* Пакет [pip-audit](https://pypi.org/project/pip-audit/) или safety\n",
    "* Список пакетов с уязвимостями: [PyPI Malware](https://github.com/rsc-dev/pypi_malware)\n",
    "* Корректная установка зависимостей + использование \"колес\" - wheels:\n",
    "\n",
    "```\n",
    "pip install package --only-binary=:all: --require-hashes\n",
    "```"
   ]
  },
  {
   "cell_type": "markdown",
   "metadata": {},
   "source": [
    "## Project Structure\n",
    "\n",
    "[Structure Your Data Science Projects](https://towardsdatascience.com/structure-your-data-science-projects-6c6c8653c16a)"
   ]
  },
  {
   "cell_type": "markdown",
   "metadata": {},
   "source": [
    "## Поиск уязвимостей в коде\n",
    "\n",
    "* [Python bandit](https://github.com/PyCQA/bandit)"
   ]
  },
  {
   "cell_type": "markdown",
   "metadata": {},
   "source": [
    "## Python Style Guide\n",
    "\n",
    "[Google Python Style Guide](https://google.github.io/styleguide/pyguide.html)"
   ]
  },
  {
   "cell_type": "markdown",
   "metadata": {},
   "source": [
    "## Docstrings\n",
    "\n",
    "* [Python Docstrings](https://www.programiz.com/python-programming/docstrings)\n",
    "* [PEP 257 на русском. (Соглашение о Docstrings)](https://habr.com/ru/post/499358/)\n",
    "\n",
    "`attribute_name.__doc__` - получение документации по конкретному атрибуту или методу объекта.\n",
    "\n",
    "`help(attribute_name)` - получение подробной информации об объектк и его атрибутах.\n",
    "\n",
    "`dir(attribute_name)` - посмотреть все методы и атрибуты, связанные с определенным объектом."
   ]
  },
  {
   "cell_type": "markdown",
   "metadata": {},
   "source": [
    "## Type Hints\n",
    "\n",
    "* [PEP 484 – Type Hints](https://peps.python.org/pep-0484/)\n",
    "* [Type hints cheat sheet](https://mypy.readthedocs.io/en/stable/cheat_sheet_py3.html)"
   ]
  },
  {
   "cell_type": "code",
   "execution_count": 4,
   "metadata": {},
   "outputs": [],
   "source": [
    "def f(x: str) -> None:\n",
    "    return None"
   ]
  },
  {
   "cell_type": "code",
   "execution_count": 5,
   "metadata": {},
   "outputs": [],
   "source": [
    "def kinetic_energy(m: 'in KG', v: 'in M/s') -> '!!!':\n",
    "    return 0.5 * m * v ** 2"
   ]
  },
  {
   "cell_type": "code",
   "execution_count": 6,
   "metadata": {},
   "outputs": [
    {
     "data": {
      "text/plain": [
       "{'m': 'in KG', 'v': 'in M/s', 'return': '!!!'}"
      ]
     },
     "execution_count": 6,
     "metadata": {},
     "output_type": "execute_result"
    }
   ],
   "source": [
    "kinetic_energy.__annotations__"
   ]
  },
  {
   "cell_type": "markdown",
   "metadata": {},
   "source": [
    "## Инструменты статического анализа кода\n",
    "\n",
    "* Pylint - линтер. Анализирует исходный код на соответствие PEP8, а также предупреждает о потенциальных ошибках в коде.\n",
    "* Flake8 - Pylint + PyFlakes + множество других правил, обеспечивающих соответствие стиля написания кода и обнаруживающих ошибки в исходном коде.\n",
    "* Mypy - это статический типизатор для Python, который позволяет находить ошибки в типах переменных в исходном коде.\n",
    "* Black - это инструмент для автоматического форматирования кода Python, который придерживается только одного стиля написания кода.\n",
    "* Pycodestyle - утилита для анализа кода, которая выполняет проверку на PEP8.\n",
    "* Vulture - утилита для поиска “мертвого” кода. Использует модуль ast и создает абстрактные синтаксические деревья для всех файлов исходного кода в проекте."
   ]
  },
  {
   "cell_type": "markdown",
   "metadata": {},
   "source": [
    "## Profilers\n",
    "\n",
    "[Yappi](https://github.com/sumerc/yappi)"
   ]
  },
  {
   "cell_type": "code",
   "execution_count": 1,
   "metadata": {},
   "outputs": [],
   "source": [
    "import yappi"
   ]
  },
  {
   "cell_type": "code",
   "execution_count": 2,
   "metadata": {},
   "outputs": [],
   "source": [
    "# do something CPU heavy\n",
    "def a():\n",
    "    for _ in range(10000000):\n",
    "        pass"
   ]
  },
  {
   "cell_type": "code",
   "execution_count": 3,
   "metadata": {},
   "outputs": [],
   "source": [
    "# Use set_clock_type(\"wall\") for wall time\n",
    "yappi.set_clock_type(\"cpu\")"
   ]
  },
  {
   "cell_type": "code",
   "execution_count": 4,
   "metadata": {},
   "outputs": [],
   "source": [
    "yappi.start(builtins=False)\n",
    "a()\n",
    "yappi.stop()"
   ]
  },
  {
   "cell_type": "code",
   "execution_count": 8,
   "metadata": {},
   "outputs": [
    {
     "name": "stdout",
     "output_type": "stream",
     "text": [
      "\n",
      "Clock type: CPU\n",
      "Ordered by: totaltime, desc\n",
      "\n",
      "name                                                                    ncall     tsub      ttot      tavg      \n",
      "..s/IPython/core/interactiveshell.py:3302 ZMQInteractiveShell.run_code  1         0.000019  0.221721  0.221721\n",
      "<ipython-input-4-e5b2d0c63696>:2 <module>                               1         0.000004  0.221683  0.221683\n",
      "<ipython-input-2-84055d764842>:2 a                                      1         0.221679  0.221679  0.221679\n",
      "<decorator-gen-23>:1 HistoryManager.writeout_cache                      1         0.000012  0.000814  0.000814\n",
      "../lib/python3.8/site-packages/IPython/core/history.py:52 needs_sqlite  1         0.000012  0.000803  0.000803\n",
      "..e-packages/IPython/core/history.py:772 HistoryManager.writeout_cache  1         0.000041  0.000787  0.000787\n",
      "..ges/IPython/core/history.py:760 HistoryManager._writeout_input_cache  1         0.000291  0.000555  0.000555\n",
      "../lib/python3.8/site-packages/traitlets/traitlets.py:576 List.__set__  2         0.000012  0.000178  0.000089\n",
      "..nda3/lib/python3.8/site-packages/traitlets/traitlets.py:558 List.set  2         0.000015  0.000166  0.000083\n",
      "..ib/python3.8/site-packages/traitlets/traitlets.py:587 List._validate  2         0.000020  0.000095  0.000047\n",
      "../kate/anaconda3/lib/python3.8/codeop.py:135 CachingCompiler.__call__  2         0.000012  0.000068  0.000034\n",
      "..ib/python3.8/site-packages/traitlets/traitlets.py:2323 List.validate  2         0.000012  0.000060  0.000030\n",
      "..te-packages/traitlets/traitlets.py:1133 HistoryManager._notify_trait  1         0.000008  0.000056  0.000056\n",
      "..te-packages/traitlets/traitlets.py:1142 HistoryManager.notify_change  1         0.000031  0.000048  0.000048\n",
      "..ib/python3.8/site-packages/traitlets/traitlets.py:2235 List.validate  2         0.000016  0.000039  0.000020\n",
      "..3.8/site-packages/traitlets/traitlets.py:2316 List.validate_elements  4         0.000019  0.000026  0.000007\n",
      "../python3.8/site-packages/traitlets/traitlets.py:545 Instance.__get__  6         0.000018  0.000026  0.000004\n",
      "/home/kate/anaconda3/lib/python3.8/contextlib.py:238 helper             2         0.000009  0.000021  0.000010\n",
      "..3/lib/python3.8/contextlib.py:108 _GeneratorContextManager.__enter__  2         0.000006  0.000016  0.000008\n",
      "../lib/python3.8/site-packages/traitlets/traitlets.py:545 Bool.__get__  2         0.000012  0.000016  0.000008\n",
      "/home/kate/anaconda3/lib/python3.8/threading.py:530 Event.clear         1         0.000008  0.000014  0.000014\n",
      "..es/IPython/core/history.py:766 HistoryManager._writeout_output_cache  1         0.000008  0.000013  0.000013\n",
      "..hon3.8/site-packages/traitlets/traitlets.py:596 List._cross_validate  2         0.000007  0.000012  0.000006\n",
      "..a3/lib/python3.8/contextlib.py:117 _GeneratorContextManager.__exit__  2         0.000006  0.000012  0.000006\n",
      "..da3/lib/python3.8/contextlib.py:82 _GeneratorContextManager.__init__  2         0.000010  0.000011  0.000006\n",
      "..e-packages/IPython/core/hooks.py:103 CommandChainDispatcher.__call__  2         0.000009  0.000011  0.000005\n",
      "../anaconda3/lib/python3.8/threading.py:258 Condition._acquire_restore  1         0.000007  0.000009  0.000009\n",
      "..me/kate/anaconda3/lib/python3.8/threading.py:261 Condition._is_owned  1         0.000007  0.000008  0.000008\n",
      "..ython3.8/site-packages/traitlets/utils/bunch.py:11 Bunch.__getattr__  2         0.000007  0.000008  0.000004\n",
      "../lib/python3.8/site-packages/traitlets/traitlets.py:526 Instance.get  6         0.000008  0.000008  0.000001\n",
      "..me/kate/anaconda3/lib/python3.8/threading.py:246 Condition.__enter__  2         0.000005  0.000007  0.000003\n",
      "..-packages/IPython/core/compilerop.py:138 CachingCompiler.extra_flags  4         0.000007  0.000007  0.000002\n",
      "/home/kate/anaconda3/lib/python3.8/threading.py:249 Condition.__exit__  2         0.000004  0.000005  0.000003\n",
      "..ate/anaconda3/lib/python3.8/threading.py:255 Condition._release_save  1         0.000004  0.000005  0.000005\n",
      "..ib/python3.8/site-packages/traitlets/traitlets.py:1673 List.validate  2         0.000003  0.000004  0.000002\n",
      "..3.8/site-packages/traitlets/traitlets.py:2246 List.validate_elements  4         0.000004  0.000004  0.000001\n",
      "..ython3.8/site-packages/IPython/core/interactiveshell.py:3240 compare  2         0.000004  0.000004  0.000002\n",
      "..nda3/lib/python3.8/site-packages/traitlets/traitlets.py:526 Bool.get  2         0.000003  0.000003  0.000002\n",
      "..on3.8/site-packages/IPython/utils/ipstruct.py:125 Struct.__getattr__  2         0.000003  0.000003  0.000001\n",
      "..hon/core/interactiveshell.py:1276 ZMQInteractiveShell.user_global_ns  2         0.000002  0.000002  0.000001\n",
      "..ages/IPython/core/hooks.py:168 ZMQInteractiveShell.pre_run_code_hook  2         0.000002  0.000002  0.000001\n",
      "/home/kate/anaconda3/lib/python3.8/threading.py:540 Event.wait          1         0.000000  0.000000  0.000000\n",
      "/home/kate/anaconda3/lib/python3.8/threading.py:270 Condition.wait      1         0.000000  0.000000  0.000000\n",
      "<ipython-input-4-e5b2d0c63696>:3 <module>                               1         0.000000  0.000000  0.000000\n"
     ]
    }
   ],
   "source": [
    "yappi.get_func_stats().print_all(\n",
    "    columns={0: ('name', 70),\n",
    "             1: ('ncall', 8),\n",
    "             2: ('tsub', 8),\n",
    "             3: ('ttot', 8),\n",
    "             4: ('tavg', 8)}\n",
    ")"
   ]
  },
  {
   "cell_type": "code",
   "execution_count": 9,
   "metadata": {},
   "outputs": [
    {
     "name": "stdout",
     "output_type": "stream",
     "text": [
      "\n",
      "name           id     tid              ttot      scnt        \n",
      "_MainThread    0      140212943349568  0.221985  2         \n",
      "..avingThread  1      140212621534976  0.000971  1         \n"
     ]
    }
   ],
   "source": [
    "yappi.get_thread_stats().print_all()"
   ]
  },
  {
   "cell_type": "markdown",
   "metadata": {},
   "source": [
    "## TQDM telegram + wandb\n",
    "\n",
    "Можно отобразить:\n",
    "* полный вывод консоли\n",
    "* использование ресурсов\n",
    "\n",
    "```\n",
    "from tqdm.contrib.telegram import tqdm\n",
    "for i in tqdm(iterable, token='{token}', chat_id='{chat_id}'):\n",
    "    ...\n",
    "```"
   ]
  },
  {
   "cell_type": "markdown",
   "metadata": {},
   "source": [
    "## Менеджеры пакетов\n",
    "\n",
    "* easy_install - инструмент для установки и управления пакетами Python2.\n",
    "* pip - стандартный менеджер пакетов Python. Он позволяет устанавливать пакеты из PyPI (Python Package Index) и других источников, а также управлять зависимостями проекта.\n",
    "* conda - это менеджер пакетов и среда управления, который позволяет управлять пакетами и зависимостями для проектов на Python, а также для других языков программирования и платформ.\n",
    "* poetry - менеджер пакетов, предназначенный для замены в некоторой степени pip и virtualenv."
   ]
  }
 ],
 "metadata": {
  "kernelspec": {
   "display_name": "Python 3",
   "language": "python",
   "name": "python3"
  },
  "language_info": {
   "codemirror_mode": {
    "name": "ipython",
    "version": 3
   },
   "file_extension": ".py",
   "mimetype": "text/x-python",
   "name": "python",
   "nbconvert_exporter": "python",
   "pygments_lexer": "ipython3",
   "version": "3.8.3"
  }
 },
 "nbformat": 4,
 "nbformat_minor": 4
}
